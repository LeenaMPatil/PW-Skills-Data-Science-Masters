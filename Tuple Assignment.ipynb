{
 "cells": [
  {
   "cell_type": "markdown",
   "id": "381be8a1",
   "metadata": {},
   "source": [
    "# # 02 feb Assignment Solution"
   ]
  },
  {
   "cell_type": "code",
   "execution_count": 6,
   "id": "676bc847",
   "metadata": {},
   "outputs": [],
   "source": [
    "#Q1. What are the characteristics of the tuples? Is tuple immutable?\n",
    "\n",
    "#Ans:1. Tuples are immutable\n",
    "    #2. Tuples can contains elements of different types\n",
    "    #3.Tuples support indexing starting from 0\n",
    "    #4.Tuples can be used as keys in dictionaries"
   ]
  },
  {
   "cell_type": "code",
   "execution_count": 7,
   "id": "3ad1f8b1",
   "metadata": {},
   "outputs": [],
   "source": [
    "#Q2. What are the two tuple methods in python? Give an example of each method. Give a reason why tuples have only two in-built methods as compared to Lists.\n",
    "\n",
    "#Ans: The two methods supported by tuple are count() and index()\n",
    "tuple1=(1,2,3,3,2,1,4,4)"
   ]
  },
  {
   "cell_type": "code",
   "execution_count": 8,
   "id": "aef310c0",
   "metadata": {},
   "outputs": [
    {
     "name": "stdout",
     "output_type": "stream",
     "text": [
      "2\n"
     ]
    }
   ],
   "source": [
    "print(tuple1.count(2))"
   ]
  },
  {
   "cell_type": "code",
   "execution_count": 9,
   "id": "0a9e6c1e",
   "metadata": {},
   "outputs": [
    {
     "name": "stdout",
     "output_type": "stream",
     "text": [
      "1\n"
     ]
    }
   ],
   "source": [
    "print(tuple1.index(2))"
   ]
  },
  {
   "cell_type": "code",
   "execution_count": 10,
   "id": "34c6aa12",
   "metadata": {},
   "outputs": [],
   "source": [
    "#Q3. Which collection datatypes in python do not allow duplicate items? Write a code using a set to remove duplicates from the given list.\n",
    "List = [1, 1, 1, 2, 1, 3, 1, 4, 2, 1, 2, 2, 2, 3, 2, 4, 3, 1, 3, 2, 3, 3, 3, 4, 4, 1, 4, 2, 4, 3, 4, 4]\n",
    "\n",
    "#Ans: Sets do not allow duplicates"
   ]
  },
  {
   "cell_type": "code",
   "execution_count": 11,
   "id": "417d8be2",
   "metadata": {},
   "outputs": [
    {
     "data": {
      "text/plain": [
       "[1, 2, 3, 4]"
      ]
     },
     "execution_count": 11,
     "metadata": {},
     "output_type": "execute_result"
    }
   ],
   "source": [
    "no_duplicate = set(List)\n",
    "new_List = list(no_duplicate)\n",
    "new_List"
   ]
  },
  {
   "cell_type": "code",
   "execution_count": 12,
   "id": "883da2ec",
   "metadata": {},
   "outputs": [],
   "source": [
    "#Q4. Explain the difference between the union() and update() methods for a set. Give an example of each method.\n",
    "\n",
    "#Ans: 1. union() method is used to make a new set by combination of sets with unique values."
   ]
  },
  {
   "cell_type": "code",
   "execution_count": 13,
   "id": "a8b2ee60",
   "metadata": {},
   "outputs": [
    {
     "data": {
      "text/plain": [
       "{4, 5, 6, 7, 8, 9, 20}"
      ]
     },
     "execution_count": 13,
     "metadata": {},
     "output_type": "execute_result"
    }
   ],
   "source": [
    "#union() example\n",
    "set1={4,5,6,7,8}\n",
    "set2={8,9,20}\n",
    "set3= set1.union(set2)\n",
    "set3"
   ]
  },
  {
   "cell_type": "code",
   "execution_count": 14,
   "id": "745559b6",
   "metadata": {},
   "outputs": [],
   "source": [
    "#2.update() moethod is used for updating existing set with values of another set."
   ]
  },
  {
   "cell_type": "code",
   "execution_count": 19,
   "id": "5da54fdd",
   "metadata": {},
   "outputs": [
    {
     "data": {
      "text/plain": [
       "{4, 5, 6, 7, 8, 9, 20}"
      ]
     },
     "execution_count": 19,
     "metadata": {},
     "output_type": "execute_result"
    }
   ],
   "source": [
    "#update() example\n",
    "set4={4,5,6,7,8}\n",
    "set5={8,9,20}\n",
    "set4.update(set5)\n",
    "set4"
   ]
  },
  {
   "cell_type": "code",
   "execution_count": 21,
   "id": "0549e5dd",
   "metadata": {},
   "outputs": [
    {
     "data": {
      "text/plain": [
       "{'colour': 'Blue', 'fruit': 'Apple', 'car': 'Maruti'}"
      ]
     },
     "execution_count": 21,
     "metadata": {},
     "output_type": "execute_result"
    }
   ],
   "source": [
    "#Q5. What is a dictionary? Give an example. Also, state whether a dictionary is ordered or unordered.\n",
    "\n",
    "#Ans: Dictionary is a collection of Key- value pair enclosed in {} where keys are immutable.\n",
    "#Example\n",
    "dict1={'colour':\"Blue\", 'fruit':\"Apple\",'car':\"Maruti\"}\n",
    "dict1"
   ]
  },
  {
   "cell_type": "code",
   "execution_count": 22,
   "id": "9564d57e",
   "metadata": {},
   "outputs": [
    {
     "data": {
      "text/plain": [
       "{'colour': {'Blue': 'sky', 'Yellow': 'Sun', 'Green': 'Tree'},\n",
       " 'Number': {'One': 1, 'Two': 2}}"
      ]
     },
     "execution_count": 22,
     "metadata": {},
     "output_type": "execute_result"
    }
   ],
   "source": [
    "#Q6. Can we create a nested dictionary? If so, please give an example by creating a simple one-level nested dictionary.\n",
    "\n",
    "#Ans: Yes we can create a nested dictionary.\n",
    "dict2 ={\"colour\":{\"Blue\":\"sky\",\"Yellow\":\"Sun\",\"Green\":\"Tree\"},\"Number\":{\"One\":1,\"Two\":2}}\n",
    "dict2"
   ]
  },
  {
   "cell_type": "code",
   "execution_count": 26,
   "id": "fee92eef",
   "metadata": {},
   "outputs": [
    {
     "data": {
      "text/plain": [
       "{'Name': 'Leenna',\n",
       " 'Add': 'Kop',\n",
       " 'topics': ['Python', 'Machine Learnin', 'Deep Learning']}"
      ]
     },
     "execution_count": 26,
     "metadata": {},
     "output_type": "execute_result"
    }
   ],
   "source": [
    "#Q7. Using setdefault() method, create key named topics in the given dictionary and also add the value of the key as this list ['Python', 'Machine Learning’, 'Deep Learning']\n",
    "#dict1 = {'language' : 'Python', 'course': 'Data Science Masters'}\n",
    "\n",
    "#Ans: \n",
    "dict3={\"Name\":\"Leenna\",\"Add\":\"Kop\"}\n",
    "dict3.setdefault(\"topics\", ['Python','Machine Learnin','Deep Learning'])\n",
    "dict3"
   ]
  },
  {
   "cell_type": "code",
   "execution_count": 29,
   "id": "7a0fe028",
   "metadata": {},
   "outputs": [
    {
     "name": "stdout",
     "output_type": "stream",
     "text": [
      "dict_keys(['Sport', 'Teams'])\n",
      "dict_values(['Cricket', ['India', 'Australia', 'England', 'South Africa', 'Sri Lanka', 'New Zealand']])\n",
      "dict_items([('Sport', 'Cricket'), ('Teams', ['India', 'Australia', 'England', 'South Africa', 'Sri Lanka', 'New Zealand'])])\n"
     ]
    }
   ],
   "source": [
    "#Q8. What are the three view objects in dictionaries? Use the three in-built methods in python to display these three view objects for the given dictionary.\n",
    "dict1 = {'Sport': 'Cricket' , 'Teams': ['India', 'Australia', 'England', 'South Africa', 'Sri Lanka', 'New Zealand']}\n",
    "\n",
    "#Ans: 1.dict_keys: This view object contains the keys of the dictionary.\n",
    "#2.dict_values: This view object contains the values of the dictionary.\n",
    "#3.dict_items: This view object contains the key-value pairs of the dictionary as tuples.\n",
    "\n",
    "print(dict1.keys())\n",
    "print(dict1.values())\n",
    "print(dict1.items())"
   ]
  },
  {
   "cell_type": "code",
   "execution_count": null,
   "id": "c8f91655",
   "metadata": {},
   "outputs": [],
   "source": []
  }
 ],
 "metadata": {
  "kernelspec": {
   "display_name": "Python 3 (ipykernel)",
   "language": "python",
   "name": "python3"
  },
  "language_info": {
   "codemirror_mode": {
    "name": "ipython",
    "version": 3
   },
   "file_extension": ".py",
   "mimetype": "text/x-python",
   "name": "python",
   "nbconvert_exporter": "python",
   "pygments_lexer": "ipython3",
   "version": "3.9.13"
  }
 },
 "nbformat": 4,
 "nbformat_minor": 5
}
