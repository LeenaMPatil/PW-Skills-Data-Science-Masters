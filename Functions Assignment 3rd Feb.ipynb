{
 "cells": [
  {
   "cell_type": "code",
   "execution_count": 1,
   "metadata": {},
   "outputs": [
    {
     "name": "stdout",
     "output_type": "stream",
     "text": [
      "[1, 3, 5, 7, 9, 11, 13, 15, 17, 19, 21, 23, 25]\n"
     ]
    }
   ],
   "source": [
    "#Q1. Which keyword is used to create a function? Create a function to return a list of odd numbers in the range of 1 to 25.\n",
    "\n",
    "#Ans: Def() keyword is used to create a function.\n",
    "def odd_numbers():\n",
    "    odd_nums = []\n",
    "    for num in range(1, 26):\n",
    "        if num % 2 != 0:\n",
    "            odd_nums.append(num)\n",
    "    return odd_nums\n",
    "\n",
    "print(odd_numbers())"
   ]
  },
  {
   "cell_type": "code",
   "execution_count": 2,
   "metadata": {},
   "outputs": [
    {
     "name": "stdout",
     "output_type": "stream",
     "text": [
      "Leena\n",
      "Maruti\n",
      "Patil\n"
     ]
    }
   ],
   "source": [
    "#Q2. Why *args and **kwargs is used in some functions? Create a function each for *args and **kwargs to demonstrate their use.\n",
    "\n",
    "#Ans: The special syntax *args in function definitions in Python is used to pass a variable number of arguments to a function. \n",
    "# It is used to pass a non-keyworded, variable-length argument list. \n",
    "def my_name(*argv):\n",
    "\tfor arg in argv:\n",
    "\t\tprint(arg)\n",
    "\n",
    "\n",
    "my_name('Leena', 'Maruti', 'Patil')"
   ]
  },
  {
   "cell_type": "code",
   "execution_count": 3,
   "metadata": {},
   "outputs": [
    {
     "name": "stdout",
     "output_type": "stream",
     "text": [
      "first_name == Leena\n",
      "mid_name == Maruti\n",
      "last_name == Patil\n"
     ]
    }
   ],
   "source": [
    "#Ans:The special syntax **kwargs in function definitions in Python is used to pass a keyworded, variable-length argument list. \n",
    "def my_name1(**kwargs):\n",
    "\tfor key, value in kwargs.items():\n",
    "\t\tprint(\"%s == %s\" % (key, value))\n",
    "\n",
    "my_name1(first_name='Leena', mid_name='Maruti', last_name='Patil')"
   ]
  },
  {
   "cell_type": "code",
   "execution_count": 4,
   "metadata": {},
   "outputs": [
    {
     "name": "stdout",
     "output_type": "stream",
     "text": [
      "2 4 6 8 10 12 14 16 "
     ]
    }
   ],
   "source": [
    "#Q3. What is an iterator in python? Name the method used to initialise the iterator object and the method\n",
    "#used for iteration. Use these methods to print the first five elements of the given list [2, 4, 6, 8, 10, 12, 14, 16,18, 20].\n",
    "\n",
    "#Ans:An iterator is an object that can be iterated upon, meaning that you can traverse through all the values.\n",
    "\n",
    "list = [2, 4, 6, 8, 10, 12, 14, 16, 18, 20]\n",
    "iter_a = iter(list)\n",
    "for i in range(8):\n",
    "    print(next(iter_a), end=\" \")"
   ]
  },
  {
   "cell_type": "code",
   "execution_count": 5,
   "metadata": {},
   "outputs": [
    {
     "name": "stdout",
     "output_type": "stream",
     "text": [
      "1 4 9 16 25 "
     ]
    }
   ],
   "source": [
    "#Q4. What is a generator function in python? Why yield keyword is used? Give an example of a generator function.\n",
    "\n",
    "#Ans:A generator function is a function that returns an iterator which allows to generate a sequence of values.\n",
    "#Yield passs each generate value without waiting for the whole program to complete\n",
    "\n",
    "def squares():\n",
    "    for i in range(1, 6):\n",
    "        yield i**2\n",
    "\n",
    "# Example usage:\n",
    "for square in squares():\n",
    "    print(square, end=\" \")"
   ]
  },
  {
   "cell_type": "code",
   "execution_count": 6,
   "metadata": {},
   "outputs": [
    {
     "name": "stdout",
     "output_type": "stream",
     "text": [
      "2 3 5 7 11 13 17 19 23 29 31 37 41 43 47 53 59 61 67 "
     ]
    }
   ],
   "source": [
    "#Q5. Create a generator function for prime numbers less than 1000. Use the next() method to print the first 20 prime numbers.\n",
    "\n",
    "#Ans: \n",
    "def get_prime_nos():\n",
    "\tfor i in range(1, 1000):\n",
    "\t\tif i == 0 or i == 1:\n",
    "\t\t\tcontinue\n",
    "\t\telse:\n",
    "\t\t\tfor j in range(2, int(i/2)+1):\n",
    "\t\t\t\tif i % j == 0:\n",
    "\t\t\t\t\tbreak\n",
    "\t\t\telse:\n",
    "\t\t\t\tyield i\n",
    "lst = get_prime_nos()\n",
    "for i in range(1, 20):\n",
    "    print(next(lst), end= ' ')"
   ]
  },
  {
   "cell_type": "code",
   "execution_count": null,
   "metadata": {},
   "outputs": [],
   "source": []
  }
 ],
 "metadata": {
  "kernelspec": {
   "display_name": "base",
   "language": "python",
   "name": "python3"
  },
  "language_info": {
   "codemirror_mode": {
    "name": "ipython",
    "version": 3
   },
   "file_extension": ".py",
   "mimetype": "text/x-python",
   "name": "python",
   "nbconvert_exporter": "python",
   "pygments_lexer": "ipython3",
   "version": "3.9.13"
  },
  "orig_nbformat": 4
 },
 "nbformat": 4,
 "nbformat_minor": 2
}
